{
  "nbformat": 4,
  "nbformat_minor": 0,
  "metadata": {
    "colab": {
      "provenance": []
    },
    "kernelspec": {
      "name": "python3",
      "display_name": "Python 3"
    },
    "language_info": {
      "name": "python"
    }
  },
  "cells": [
    {
      "cell_type": "code",
      "source": [
        "\n",
        "print(\"                        Desafio Senai São Caetano do Sul                  \")\n",
        "print(\"                        Tente resolver esse desafio                        \")\n",
        "import time\n",
        "qualquernumeroaleatorio = int((time.time() * 1000) % 100)\n",
        "contador = 0\n",
        "numero = float(input(\"Advinhe o numero gerado: \"))\n",
        "while qualquernumeroaleatorio != numero and contador < 9:\n",
        " print(\"Insucesso\")\n",
        " numero = float(input(\"Advinhe o numero gerado: \"))\n",
        " contador +=1\n",
        "if qualquernumeroaleatorio == numero :\n",
        " print(\"Parabens, voce acertou o desafio\")\n",
        "else:\n",
        " print(\"Infelizmente, voce errou\")\n",
        "print(f\"O numero correto era {qualquernumeroaleatorio} \")"
      ],
      "metadata": {
        "colab": {
          "base_uri": "https://localhost:8080/"
        },
        "id": "kC8QYx8UoRja",
        "outputId": "093c38ce-5e3e-4551-b46f-66fe9d3a0735"
      },
      "execution_count": 93,
      "outputs": [
        {
          "output_type": "stream",
          "name": "stdout",
          "text": [
            "                        Desafio Senai São Caetano do Sul                  \n",
            "                        Tente resolver esse desafio                        \n",
            "Advinhe o numero gerado: 67\n",
            "Insucesso\n",
            "Advinhe o numero gerado: 67\n",
            "Insucesso\n",
            "Advinhe o numero gerado: 67\n",
            "Insucesso\n",
            "Advinhe o numero gerado: 67\n",
            "Insucesso\n",
            "Advinhe o numero gerado: 67\n",
            "Insucesso\n",
            "Advinhe o numero gerado: 67\n",
            "Insucesso\n",
            "Advinhe o numero gerado: 67\n",
            "Insucesso\n",
            "Advinhe o numero gerado: 67\n",
            "Insucesso\n",
            "Advinhe o numero gerado: 67\n",
            "Insucesso\n",
            "Advinhe o numero gerado: 67\n",
            "Infelizmente, voce errou\n",
            "O numero correto era 6 \n"
          ]
        }
      ]
    }
  ]
}